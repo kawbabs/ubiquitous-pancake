{
 "cells": [
  {
   "cell_type": "markdown",
   "id": "16a5d345",
   "metadata": {},
   "source": [
    "Gіvеn сlіnісаl раrаmеtеrѕ about a раtіеnt, can we рrеdісt whеthеr оr nоt thеу have hеаrt dіѕеаѕе?\n",
    "\n",
    "In this соmреtіtіоn, use labeled dаtа tо train a mасhіnе-lеаrnіng аlgоrіthm to bе аblе tо рrеdісt unѕееn tеѕt dаtа."
   ]
  },
  {
   "cell_type": "markdown",
   "id": "d813feea",
   "metadata": {},
   "source": [
    "Bascally tryingto improve the score here based on the EDA I have done in the first notebook "
   ]
  },
  {
   "cell_type": "code",
   "execution_count": 1,
   "id": "e2839cef",
   "metadata": {
    "_cell_guid": "b1076dfc-b9ad-4769-8c92-a6c4dae69d19",
    "_uuid": "8f2839f25d086af736a60e9eeb907d3b93b6e0e5",
    "execution": {
     "iopub.execute_input": "2022-02-18T11:04:57.604524Z",
     "iopub.status.busy": "2022-02-18T11:04:57.603777Z",
     "iopub.status.idle": "2022-02-18T11:04:57.609763Z",
     "shell.execute_reply": "2022-02-18T11:04:57.610312Z"
    },
    "papermill": {
     "duration": 0.030035,
     "end_time": "2022-02-18T11:04:57.610595",
     "exception": false,
     "start_time": "2022-02-18T11:04:57.580560",
     "status": "completed"
    },
    "tags": []
   },
   "outputs": [
    {
     "name": "stdout",
     "output_type": "stream",
     "text": [
      "/kaggle/input/ml-olympiad-good-health-and-well-being/sample_submission.csv\n",
      "/kaggle/input/ml-olympiad-good-health-and-well-being/train.csv\n",
      "/kaggle/input/ml-olympiad-good-health-and-well-being/test.csv\n"
     ]
    }
   ],
   "source": [
    "# This Python 3 environment comes with many helpful analytics libraries installed\n",
    "# It is defined by the kaggle/python Docker image: https://github.com/kaggle/docker-python\n",
    "# For example, here's several helpful packages to load\n",
    "\n",
    "import numpy as np # linear algebra\n",
    "import pandas as pd # data processing, CSV file I/O (e.g. pd.read_csv)\n",
    "\n",
    "# Input data files are available in the read-only \"../input/\" directory\n",
    "# For example, running this (by clicking run or pressing Shift+Enter) will list all files under the input directory\n",
    "\n",
    "import os\n",
    "for dirname, _, filenames in os.walk('/kaggle/input'):\n",
    "    for filename in filenames:\n",
    "        print(os.path.join(dirname, filename))\n",
    "\n",
    "# You can write up to 20GB to the current directory (/kaggle/working/) that gets preserved as output when you create a version using \"Save & Run All\" \n",
    "# You can also write temporary files to /kaggle/temp/, but they won't be saved outside of the current session"
   ]
  },
  {
   "cell_type": "code",
   "execution_count": 2,
   "id": "79a1f414",
   "metadata": {
    "execution": {
     "iopub.execute_input": "2022-02-18T11:04:57.649702Z",
     "iopub.status.busy": "2022-02-18T11:04:57.648231Z",
     "iopub.status.idle": "2022-02-18T11:04:58.700018Z",
     "shell.execute_reply": "2022-02-18T11:04:58.699500Z",
     "shell.execute_reply.started": "2022-02-18T09:09:10.694321Z"
    },
    "papermill": {
     "duration": 1.076557,
     "end_time": "2022-02-18T11:04:58.700138",
     "exception": false,
     "start_time": "2022-02-18T11:04:57.623581",
     "status": "completed"
    },
    "tags": []
   },
   "outputs": [],
   "source": [
    "import numpy as np\n",
    "import seaborn as sns\n",
    "import pandas as pd\n",
    "%matplotlib inline\n",
    "import matplotlib.pyplot as plt\n",
    "sns.set_style('whitegrid')\n",
    "from sklearn.model_selection import train_test_split\n",
    "from sklearn.ensemble import RandomForestClassifier\n",
    "from sklearn.model_selection import GridSearchCV\n",
    "from sklearn import metrics"
   ]
  },
  {
   "cell_type": "code",
   "execution_count": 3,
   "id": "8c4adab1",
   "metadata": {
    "execution": {
     "iopub.execute_input": "2022-02-18T11:04:58.728951Z",
     "iopub.status.busy": "2022-02-18T11:04:58.728344Z",
     "iopub.status.idle": "2022-02-18T11:04:59.357087Z",
     "shell.execute_reply": "2022-02-18T11:04:59.358387Z",
     "shell.execute_reply.started": "2022-02-18T09:10:32.452476Z"
    },
    "papermill": {
     "duration": 0.646016,
     "end_time": "2022-02-18T11:04:59.358605",
     "exception": false,
     "start_time": "2022-02-18T11:04:58.712589",
     "status": "completed"
    },
    "tags": []
   },
   "outputs": [],
   "source": [
    "df_sub = pd.read_csv('../input/ml-olympiad-good-health-and-well-being/sample_submission.csv')\n",
    "df_test = pd.read_csv('../input/ml-olympiad-good-health-and-well-being/test.csv')\n",
    "df_train = pd.read_csv('../input/ml-olympiad-good-health-and-well-being/train.csv')"
   ]
  },
  {
   "cell_type": "code",
   "execution_count": 4,
   "id": "2394d050",
   "metadata": {
    "execution": {
     "iopub.execute_input": "2022-02-18T11:04:59.408408Z",
     "iopub.status.busy": "2022-02-18T11:04:59.407794Z",
     "iopub.status.idle": "2022-02-18T11:04:59.499697Z",
     "shell.execute_reply": "2022-02-18T11:04:59.500797Z",
     "shell.execute_reply.started": "2022-02-18T09:11:07.606391Z"
    },
    "papermill": {
     "duration": 0.121065,
     "end_time": "2022-02-18T11:04:59.501019",
     "exception": false,
     "start_time": "2022-02-18T11:04:59.379954",
     "status": "completed"
    },
    "tags": []
   },
   "outputs": [],
   "source": [
    "X = df_train.drop(['PatientID', 'target'], axis = 1)\n",
    "y = df_train['target']\n",
    "\n",
    "X_train, X_test, y_train, y_test = train_test_split(X, y, test_size = 0.3, random_state = 42)"
   ]
  },
  {
   "cell_type": "code",
   "execution_count": 5,
   "id": "30bd3725",
   "metadata": {
    "execution": {
     "iopub.execute_input": "2022-02-18T11:04:59.546392Z",
     "iopub.status.busy": "2022-02-18T11:04:59.545567Z",
     "iopub.status.idle": "2022-02-18T11:04:59.547763Z",
     "shell.execute_reply": "2022-02-18T11:04:59.547122Z",
     "shell.execute_reply.started": "2022-02-18T09:11:19.518180Z"
    },
    "papermill": {
     "duration": 0.027294,
     "end_time": "2022-02-18T11:04:59.547911",
     "exception": false,
     "start_time": "2022-02-18T11:04:59.520617",
     "status": "completed"
    },
    "tags": []
   },
   "outputs": [],
   "source": [
    "model = RandomForestClassifier()"
   ]
  },
  {
   "cell_type": "code",
   "execution_count": 6,
   "id": "e6ba5ec9",
   "metadata": {
    "execution": {
     "iopub.execute_input": "2022-02-18T11:04:59.593632Z",
     "iopub.status.busy": "2022-02-18T11:04:59.592758Z",
     "iopub.status.idle": "2022-02-18T11:04:59.594991Z",
     "shell.execute_reply": "2022-02-18T11:04:59.594325Z",
     "shell.execute_reply.started": "2022-02-18T09:11:30.589262Z"
    },
    "papermill": {
     "duration": 0.028424,
     "end_time": "2022-02-18T11:04:59.595146",
     "exception": false,
     "start_time": "2022-02-18T11:04:59.566722",
     "status": "completed"
    },
    "tags": []
   },
   "outputs": [],
   "source": [
    "model_params = [{'max_depth': list(range(10, 15)), 'max_features' : list(range(0, 14))}]"
   ]
  },
  {
   "cell_type": "code",
   "execution_count": 7,
   "id": "41e1e704",
   "metadata": {
    "execution": {
     "iopub.execute_input": "2022-02-18T11:04:59.640622Z",
     "iopub.status.busy": "2022-02-18T11:04:59.639719Z",
     "iopub.status.idle": "2022-02-18T11:04:59.642058Z",
     "shell.execute_reply": "2022-02-18T11:04:59.641364Z",
     "shell.execute_reply.started": "2022-02-18T09:12:20.891725Z"
    },
    "papermill": {
     "duration": 0.02753,
     "end_time": "2022-02-18T11:04:59.642211",
     "exception": false,
     "start_time": "2022-02-18T11:04:59.614681",
     "status": "completed"
    },
    "tags": []
   },
   "outputs": [],
   "source": [
    "import warnings\n",
    "\n",
    "warnings.filterwarnings('ignore')"
   ]
  },
  {
   "cell_type": "code",
   "execution_count": 8,
   "id": "144914d3",
   "metadata": {
    "execution": {
     "iopub.execute_input": "2022-02-18T11:04:59.690785Z",
     "iopub.status.busy": "2022-02-18T11:04:59.689968Z",
     "iopub.status.idle": "2022-02-18T12:43:50.416571Z",
     "shell.execute_reply": "2022-02-18T12:43:50.416997Z",
     "shell.execute_reply.started": "2022-02-18T09:12:33.522148Z"
    },
    "papermill": {
     "duration": 5930.755882,
     "end_time": "2022-02-18T12:43:50.417146",
     "exception": false,
     "start_time": "2022-02-18T11:04:59.661264",
     "status": "completed"
    },
    "tags": []
   },
   "outputs": [
    {
     "data": {
      "text/plain": [
       "GridSearchCV(cv=10, estimator=RandomForestClassifier(),\n",
       "             param_grid=[{'max_depth': [10, 11, 12, 13, 14],\n",
       "                          'max_features': [0, 1, 2, 3, 4, 5, 6, 7, 8, 9, 10, 11,\n",
       "                                           12, 13]}],\n",
       "             scoring='accuracy')"
      ]
     },
     "execution_count": 8,
     "metadata": {},
     "output_type": "execute_result"
    }
   ],
   "source": [
    "clf = GridSearchCV(model, model_params, cv = 10, scoring = 'accuracy')\n",
    "\n",
    "clf.fit(X_train, y_train)"
   ]
  },
  {
   "cell_type": "code",
   "execution_count": 9,
   "id": "1ce0cd22",
   "metadata": {
    "execution": {
     "iopub.execute_input": "2022-02-18T12:43:50.445901Z",
     "iopub.status.busy": "2022-02-18T12:43:50.443317Z",
     "iopub.status.idle": "2022-02-18T12:43:50.448768Z",
     "shell.execute_reply": "2022-02-18T12:43:50.449456Z",
     "shell.execute_reply.started": "2022-02-18T10:57:44.037493Z"
    },
    "papermill": {
     "duration": 0.020566,
     "end_time": "2022-02-18T12:43:50.449638",
     "exception": false,
     "start_time": "2022-02-18T12:43:50.429072",
     "status": "completed"
    },
    "tags": []
   },
   "outputs": [
    {
     "name": "stdout",
     "output_type": "stream",
     "text": [
      "{'max_depth': 10, 'max_features': 8}\n",
      "0.9084092852238644\n"
     ]
    }
   ],
   "source": [
    "print(clf.best_params_)\n",
    "\n",
    "print(clf.best_score_)"
   ]
  },
  {
   "cell_type": "code",
   "execution_count": 10,
   "id": "5051fb3c",
   "metadata": {
    "execution": {
     "iopub.execute_input": "2022-02-18T12:43:50.479372Z",
     "iopub.status.busy": "2022-02-18T12:43:50.478667Z",
     "iopub.status.idle": "2022-02-18T12:43:50.481023Z",
     "shell.execute_reply": "2022-02-18T12:43:50.480605Z",
     "shell.execute_reply.started": "2022-02-18T10:59:28.867078Z"
    },
    "papermill": {
     "duration": 0.018134,
     "end_time": "2022-02-18T12:43:50.481120",
     "exception": false,
     "start_time": "2022-02-18T12:43:50.462986",
     "status": "completed"
    },
    "tags": []
   },
   "outputs": [],
   "source": [
    "Best_model = RandomForestClassifier(max_depth= 10, max_features= 6)"
   ]
  },
  {
   "cell_type": "code",
   "execution_count": 11,
   "id": "2a2d842f",
   "metadata": {
    "execution": {
     "iopub.execute_input": "2022-02-18T12:43:50.512498Z",
     "iopub.status.busy": "2022-02-18T12:43:50.511698Z",
     "iopub.status.idle": "2022-02-18T12:43:58.082666Z",
     "shell.execute_reply": "2022-02-18T12:43:58.083048Z",
     "shell.execute_reply.started": "2022-02-18T11:01:39.656516Z"
    },
    "papermill": {
     "duration": 7.589343,
     "end_time": "2022-02-18T12:43:58.083197",
     "exception": false,
     "start_time": "2022-02-18T12:43:50.493854",
     "status": "completed"
    },
    "tags": []
   },
   "outputs": [
    {
     "data": {
      "text/plain": [
       "RandomForestClassifier(max_depth=10, max_features=6)"
      ]
     },
     "execution_count": 11,
     "metadata": {},
     "output_type": "execute_result"
    }
   ],
   "source": [
    "Best_model.fit(X_train, y_train)"
   ]
  },
  {
   "cell_type": "code",
   "execution_count": 12,
   "id": "3ddff200",
   "metadata": {
    "execution": {
     "iopub.execute_input": "2022-02-18T12:43:58.119180Z",
     "iopub.status.busy": "2022-02-18T12:43:58.111288Z",
     "iopub.status.idle": "2022-02-18T12:43:58.981204Z",
     "shell.execute_reply": "2022-02-18T12:43:58.980737Z",
     "shell.execute_reply.started": "2022-02-18T11:03:25.904713Z"
    },
    "papermill": {
     "duration": 0.885441,
     "end_time": "2022-02-18T12:43:58.981328",
     "exception": false,
     "start_time": "2022-02-18T12:43:58.095887",
     "status": "completed"
    },
    "tags": []
   },
   "outputs": [],
   "source": [
    "testt = df_test.drop('PatientID', axis=1)\n",
    "pred = Best_model.predict(testt)\n",
    "subm = pd.DataFrame({'PatientID':df_sub.PatientID, 'target':pred}, index=None) # convert to dataframe\n",
    "subm.to_csv('second_submission.csv', index=False)"
   ]
  }
 ],
 "metadata": {
  "kernelspec": {
   "display_name": "Python 3",
   "language": "python",
   "name": "python3"
  },
  "language_info": {
   "codemirror_mode": {
    "name": "ipython",
    "version": 3
   },
   "file_extension": ".py",
   "mimetype": "text/x-python",
   "name": "python",
   "nbconvert_exporter": "python",
   "pygments_lexer": "ipython3",
   "version": "3.7.12"
  },
  "papermill": {
   "default_parameters": {},
   "duration": 5950.416791,
   "end_time": "2022-02-18T12:43:59.837146",
   "environment_variables": {},
   "exception": true,
   "input_path": "__notebook__.ipynb",
   "output_path": "__notebook__.ipynb",
   "parameters": {},
   "start_time": "2022-02-18T11:04:49.420355",
   "version": "2.3.3"
  }
 },
 "nbformat": 4,
 "nbformat_minor": 5
}
